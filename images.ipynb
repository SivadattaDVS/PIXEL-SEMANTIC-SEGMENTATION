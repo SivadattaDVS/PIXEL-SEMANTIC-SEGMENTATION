{
 "cells": [
  {
   "cell_type": "code",
   "execution_count": 4,
   "id": "f4a7d3ea",
   "metadata": {},
   "outputs": [],
   "source": [
    "import pandas as pd \n",
    "import numpy as np\n",
    "import random\n",
    "from tqdm import tqdm_notebook\n",
    "from itertools import chain\n",
    "\n",
    "import matplotlib\n",
    "import matplotlib.pyplot as plt"
   ]
  },
  {
   "cell_type": "code",
   "execution_count": 2,
   "id": "349fccf9",
   "metadata": {},
   "outputs": [],
   "source": [
    "images = np.load('Data/Images/images.npy',allow_pickle=True)\n",
    "images2 = np.load('Data/Images/images (2).npy',allow_pickle=True)"
   ]
  },
  {
   "cell_type": "code",
   "execution_count": 5,
   "id": "313ec0bd",
   "metadata": {},
   "outputs": [
    {
     "name": "stderr",
     "output_type": "stream",
     "text": [
      "C:\\Users\\PARTHA\\AppData\\Local\\Temp\\ipykernel_8080\\656289994.py:3: TqdmDeprecationWarning: This function will be removed in tqdm==5.0.0\n",
      "Please use `tqdm.notebook.tqdm` instead of `tqdm.tqdm_notebook`\n",
      "  for i in tqdm_notebook(random.choices(range(2523), k=500)):\n"
     ]
    },
    {
     "data": {
      "application/vnd.jupyter.widget-view+json": {
       "model_id": "17c6cb1ec8194fd9b1d12be569e51ae9",
       "version_major": 2,
       "version_minor": 0
      },
      "text/plain": [
       "  0%|          | 0/500 [00:00<?, ?it/s]"
      ]
     },
     "metadata": {},
     "output_type": "display_data"
    }
   ],
   "source": [
    "# Code to convert Numpy arrays to actual images. .npy file to .png file\n",
    "\n",
    "for i in tqdm_notebook(random.choices(range(2523), k=500)):\n",
    "    matplotlib.image.imsave(\"./ImageData/Train/slice_{0}.png\".format(i), images[i,...]/255)\n",
    "    matplotlib.image.imsave(\"./ImageData/Val/slice_{0}.png\".format(i), images2[i,...]/255)"
   ]
  },
  {
   "cell_type": "code",
   "execution_count": null,
   "id": "cca5a523",
   "metadata": {},
   "outputs": [],
   "source": []
  },
  {
   "cell_type": "code",
   "execution_count": null,
   "id": "a53d1a7c",
   "metadata": {},
   "outputs": [],
   "source": []
  }
 ],
 "metadata": {
  "kernelspec": {
   "display_name": "Python 3 (ipykernel)",
   "language": "python",
   "name": "python3"
  },
  "language_info": {
   "codemirror_mode": {
    "name": "ipython",
    "version": 3
   },
   "file_extension": ".py",
   "mimetype": "text/x-python",
   "name": "python",
   "nbconvert_exporter": "python",
   "pygments_lexer": "ipython3",
   "version": "3.9.13"
  }
 },
 "nbformat": 4,
 "nbformat_minor": 5
}
